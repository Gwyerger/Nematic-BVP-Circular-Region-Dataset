{
 "cells": [
  {
   "cell_type": "markdown",
   "metadata": {},
   "source": [
    "$\\large\\text{Generate folders, files and run batches}$"
   ]
  },
  {
   "cell_type": "code",
   "execution_count": 9,
   "metadata": {},
   "outputs": [],
   "source": [
    "import subprocess\n",
    "import os\n",
    "import time"
   ]
  },
  {
   "cell_type": "code",
   "execution_count": 10,
   "metadata": {},
   "outputs": [],
   "source": [
    "path = r'C:\\Users\\path\\Nematic Data'\n",
    "pathlinux = \"/mnt/c/Users/path/Nematic Data\"\n",
    "childpath = r'C:\\Users\\path\\Nematic Data\\VTK'"
   ]
  },
  {
   "cell_type": "markdown",
   "metadata": {},
   "source": [
    "$\\text{Define parameters for the batch:}$"
   ]
  },
  {
   "cell_type": "code",
   "execution_count": 11,
   "metadata": {},
   "outputs": [],
   "source": [
    "# start = 21\n",
    "# end = 2000"
   ]
  },
  {
   "cell_type": "markdown",
   "metadata": {},
   "source": [
    "$\\text{Create new folders for morpho files and VTK exports}$"
   ]
  },
  {
   "cell_type": "code",
   "execution_count": 12,
   "metadata": {},
   "outputs": [],
   "source": [
    "# for n in range(start,end+1):\n",
    "#     newpath = childpath + f'\\\\Sim {n}' \n",
    "#     if not os.path.exists(newpath):\n",
    "#         os.makedirs(newpath)"
   ]
  },
  {
   "cell_type": "markdown",
   "metadata": {},
   "source": [
    "$\\text{Create and write to the new morpho files}$"
   ]
  },
  {
   "cell_type": "code",
   "execution_count": 13,
   "metadata": {},
   "outputs": [],
   "source": [
    "# def overwrite(parentfile, childfile, n):\n",
    "#             with open(parentfile, 'r') as file:\n",
    "#                 # read a list of lines into data\n",
    "#                 data = file.readlines()\n",
    "\n",
    "#             data[16] = f'var str = \"Sim {n}/PureCholesteric{n}\" \\n'\n",
    "#             # and write everything back\n",
    "#             with open(childfile, 'w') as newfile: \n",
    "#                 newfile.writelines( data )\n",
    "\n",
    "# for n in range(start,end+1):\n",
    "#     childfile = childpath + f'\\\\Sim {n}\\\\PureCholesteric{n}.morpho'\n",
    "#     parentfile = path+r\"\\PureCholesteric.morpho\"\n",
    "#     overwrite(parentfile, childfile, n)"
   ]
  },
  {
   "cell_type": "markdown",
   "metadata": {},
   "source": [
    "$\\text{Call the files in WSL terminal}$"
   ]
  },
  {
   "cell_type": "code",
   "execution_count": 14,
   "metadata": {},
   "outputs": [],
   "source": [
    "# print(f\"Starting batch of PureCholesteric.morpho \\n Batch size: {2000} \\n\")"
   ]
  },
  {
   "cell_type": "code",
   "execution_count": 15,
   "metadata": {},
   "outputs": [],
   "source": [
    "# ti = time.time()\n",
    "# for n in range(start,end+1):\n",
    "#     t1 = time.time()\n",
    "#     file = pathlinux + f\"/VTK/Sim {n}/PureCholesteric{n}.morpho\"\n",
    "#     call = subprocess.call(['wsl', 'morpho5', file])\n",
    "#     t2 = time.time()\n",
    "#     print(f\"call: {call} #{n}, time of simulation = {(t2 - t1)/60} min \\n\")\n",
    "# tf = time.time()\n",
    "# print(f\"time of batch: {(tf - ti)/60}\")"
   ]
  },
  {
   "cell_type": "code",
   "execution_count": 16,
   "metadata": {},
   "outputs": [
    {
     "name": "stdout",
     "output_type": "stream",
     "text": [
      "call: 0\n"
     ]
    }
   ],
   "source": [
    "file = pathlinux + f\"\\PureCholestericTestCase1Mode.morpho\"\n",
    "call = subprocess.call(['wsl', 'morpho5', file])\n",
    "print(f\"call: {call}\")"
   ]
  }
 ],
 "metadata": {
  "kernelspec": {
   "display_name": "Python 3",
   "language": "python",
   "name": "python3"
  },
  "language_info": {
   "codemirror_mode": {
    "name": "ipython",
    "version": 3
   },
   "file_extension": ".py",
   "mimetype": "text/x-python",
   "name": "python",
   "nbconvert_exporter": "python",
   "pygments_lexer": "ipython3",
   "version": "3.10.4"
  }
 },
 "nbformat": 4,
 "nbformat_minor": 2
}
